{
 "cells": [
  {
   "attachments": {},
   "cell_type": "markdown",
   "metadata": {},
   "source": [
    "https://www.kaggle.com/datasets/ruchi798/data-science-job-salaries"
   ]
  },
  {
   "cell_type": "code",
   "execution_count": 1,
   "metadata": {},
   "outputs": [],
   "source": [
    "import matplotlib.pyplot as plt\n",
    "import seaborn as sns\n",
    "import plotly.express as px\n",
    "import matplotlib.animation as animation\n",
    "\n",
    "import pandas as pd\n",
    "import numpy as np\n",
    "from sklearn.linear_model import LinearRegression\n",
    "\n",
    "from scipy.stats import shapiro\n",
    "from scipy.stats import levene\n",
    "from scipy.stats import ttest_ind\n",
    "from scipy.stats import f_oneway"
   ]
  },
  {
   "cell_type": "code",
   "execution_count": 2,
   "metadata": {},
   "outputs": [],
   "source": [
    "df = pd.read_csv('ds_salaries.csv')"
   ]
  },
  {
   "cell_type": "code",
   "execution_count": 3,
   "metadata": {},
   "outputs": [
    {
     "name": "stdout",
     "output_type": "stream",
     "text": [
      "<class 'pandas.core.frame.DataFrame'>\n",
      "RangeIndex: 607 entries, 0 to 606\n",
      "Data columns (total 12 columns):\n",
      " #   Column              Non-Null Count  Dtype \n",
      "---  ------              --------------  ----- \n",
      " 0   Unnamed: 0          607 non-null    int64 \n",
      " 1   work_year           607 non-null    int64 \n",
      " 2   experience_level    607 non-null    object\n",
      " 3   employment_type     607 non-null    object\n",
      " 4   job_title           607 non-null    object\n",
      " 5   salary              607 non-null    int64 \n",
      " 6   salary_currency     607 non-null    object\n",
      " 7   salary_in_usd       607 non-null    int64 \n",
      " 8   employee_residence  607 non-null    object\n",
      " 9   remote_ratio        607 non-null    int64 \n",
      " 10  company_location    607 non-null    object\n",
      " 11  company_size        607 non-null    object\n",
      "dtypes: int64(5), object(7)\n",
      "memory usage: 57.0+ KB\n"
     ]
    }
   ],
   "source": [
    "df.info()"
   ]
  },
  {
   "cell_type": "code",
   "execution_count": 4,
   "metadata": {},
   "outputs": [
    {
     "data": {
      "text/html": [
       "<div>\n",
       "<style scoped>\n",
       "    .dataframe tbody tr th:only-of-type {\n",
       "        vertical-align: middle;\n",
       "    }\n",
       "\n",
       "    .dataframe tbody tr th {\n",
       "        vertical-align: top;\n",
       "    }\n",
       "\n",
       "    .dataframe thead th {\n",
       "        text-align: right;\n",
       "    }\n",
       "</style>\n",
       "<table border=\"1\" class=\"dataframe\">\n",
       "  <thead>\n",
       "    <tr style=\"text-align: right;\">\n",
       "      <th></th>\n",
       "      <th>Unnamed: 0</th>\n",
       "      <th>work_year</th>\n",
       "      <th>salary</th>\n",
       "      <th>salary_in_usd</th>\n",
       "      <th>remote_ratio</th>\n",
       "    </tr>\n",
       "  </thead>\n",
       "  <tbody>\n",
       "    <tr>\n",
       "      <th>count</th>\n",
       "      <td>607.000000</td>\n",
       "      <td>607.000000</td>\n",
       "      <td>6.070000e+02</td>\n",
       "      <td>607.000000</td>\n",
       "      <td>607.00000</td>\n",
       "    </tr>\n",
       "    <tr>\n",
       "      <th>mean</th>\n",
       "      <td>303.000000</td>\n",
       "      <td>2021.405272</td>\n",
       "      <td>3.240001e+05</td>\n",
       "      <td>112297.869852</td>\n",
       "      <td>70.92257</td>\n",
       "    </tr>\n",
       "    <tr>\n",
       "      <th>std</th>\n",
       "      <td>175.370085</td>\n",
       "      <td>0.692133</td>\n",
       "      <td>1.544357e+06</td>\n",
       "      <td>70957.259411</td>\n",
       "      <td>40.70913</td>\n",
       "    </tr>\n",
       "    <tr>\n",
       "      <th>min</th>\n",
       "      <td>0.000000</td>\n",
       "      <td>2020.000000</td>\n",
       "      <td>4.000000e+03</td>\n",
       "      <td>2859.000000</td>\n",
       "      <td>0.00000</td>\n",
       "    </tr>\n",
       "    <tr>\n",
       "      <th>25%</th>\n",
       "      <td>151.500000</td>\n",
       "      <td>2021.000000</td>\n",
       "      <td>7.000000e+04</td>\n",
       "      <td>62726.000000</td>\n",
       "      <td>50.00000</td>\n",
       "    </tr>\n",
       "    <tr>\n",
       "      <th>50%</th>\n",
       "      <td>303.000000</td>\n",
       "      <td>2022.000000</td>\n",
       "      <td>1.150000e+05</td>\n",
       "      <td>101570.000000</td>\n",
       "      <td>100.00000</td>\n",
       "    </tr>\n",
       "    <tr>\n",
       "      <th>75%</th>\n",
       "      <td>454.500000</td>\n",
       "      <td>2022.000000</td>\n",
       "      <td>1.650000e+05</td>\n",
       "      <td>150000.000000</td>\n",
       "      <td>100.00000</td>\n",
       "    </tr>\n",
       "    <tr>\n",
       "      <th>max</th>\n",
       "      <td>606.000000</td>\n",
       "      <td>2022.000000</td>\n",
       "      <td>3.040000e+07</td>\n",
       "      <td>600000.000000</td>\n",
       "      <td>100.00000</td>\n",
       "    </tr>\n",
       "  </tbody>\n",
       "</table>\n",
       "</div>"
      ],
      "text/plain": [
       "       Unnamed: 0    work_year        salary  salary_in_usd  remote_ratio\n",
       "count  607.000000   607.000000  6.070000e+02     607.000000     607.00000\n",
       "mean   303.000000  2021.405272  3.240001e+05  112297.869852      70.92257\n",
       "std    175.370085     0.692133  1.544357e+06   70957.259411      40.70913\n",
       "min      0.000000  2020.000000  4.000000e+03    2859.000000       0.00000\n",
       "25%    151.500000  2021.000000  7.000000e+04   62726.000000      50.00000\n",
       "50%    303.000000  2022.000000  1.150000e+05  101570.000000     100.00000\n",
       "75%    454.500000  2022.000000  1.650000e+05  150000.000000     100.00000\n",
       "max    606.000000  2022.000000  3.040000e+07  600000.000000     100.00000"
      ]
     },
     "execution_count": 4,
     "metadata": {},
     "output_type": "execute_result"
    }
   ],
   "source": [
    "df.describe()"
   ]
  },
  {
   "cell_type": "code",
   "execution_count": 5,
   "metadata": {},
   "outputs": [
    {
     "data": {
      "text/html": [
       "<div>\n",
       "<style scoped>\n",
       "    .dataframe tbody tr th:only-of-type {\n",
       "        vertical-align: middle;\n",
       "    }\n",
       "\n",
       "    .dataframe tbody tr th {\n",
       "        vertical-align: top;\n",
       "    }\n",
       "\n",
       "    .dataframe thead th {\n",
       "        text-align: right;\n",
       "    }\n",
       "</style>\n",
       "<table border=\"1\" class=\"dataframe\">\n",
       "  <thead>\n",
       "    <tr style=\"text-align: right;\">\n",
       "      <th></th>\n",
       "      <th>experience_level</th>\n",
       "      <th>employment_type</th>\n",
       "      <th>job_title</th>\n",
       "      <th>salary_currency</th>\n",
       "      <th>employee_residence</th>\n",
       "      <th>company_location</th>\n",
       "      <th>company_size</th>\n",
       "    </tr>\n",
       "  </thead>\n",
       "  <tbody>\n",
       "    <tr>\n",
       "      <th>count</th>\n",
       "      <td>607</td>\n",
       "      <td>607</td>\n",
       "      <td>607</td>\n",
       "      <td>607</td>\n",
       "      <td>607</td>\n",
       "      <td>607</td>\n",
       "      <td>607</td>\n",
       "    </tr>\n",
       "    <tr>\n",
       "      <th>unique</th>\n",
       "      <td>4</td>\n",
       "      <td>4</td>\n",
       "      <td>50</td>\n",
       "      <td>17</td>\n",
       "      <td>57</td>\n",
       "      <td>50</td>\n",
       "      <td>3</td>\n",
       "    </tr>\n",
       "    <tr>\n",
       "      <th>top</th>\n",
       "      <td>SE</td>\n",
       "      <td>FT</td>\n",
       "      <td>Data Scientist</td>\n",
       "      <td>USD</td>\n",
       "      <td>US</td>\n",
       "      <td>US</td>\n",
       "      <td>M</td>\n",
       "    </tr>\n",
       "    <tr>\n",
       "      <th>freq</th>\n",
       "      <td>280</td>\n",
       "      <td>588</td>\n",
       "      <td>143</td>\n",
       "      <td>398</td>\n",
       "      <td>332</td>\n",
       "      <td>355</td>\n",
       "      <td>326</td>\n",
       "    </tr>\n",
       "  </tbody>\n",
       "</table>\n",
       "</div>"
      ],
      "text/plain": [
       "       experience_level employment_type       job_title salary_currency  \\\n",
       "count               607             607             607             607   \n",
       "unique                4               4              50              17   \n",
       "top                  SE              FT  Data Scientist             USD   \n",
       "freq                280             588             143             398   \n",
       "\n",
       "       employee_residence company_location company_size  \n",
       "count                 607              607          607  \n",
       "unique                 57               50            3  \n",
       "top                    US               US            M  \n",
       "freq                  332              355          326  "
      ]
     },
     "execution_count": 5,
     "metadata": {},
     "output_type": "execute_result"
    }
   ],
   "source": [
    "df.describe(include = 'object')"
   ]
  },
  {
   "cell_type": "code",
   "execution_count": 6,
   "metadata": {},
   "outputs": [
    {
     "data": {
      "text/plain": [
       "Unnamed: 0            0\n",
       "work_year             0\n",
       "experience_level      0\n",
       "employment_type       0\n",
       "job_title             0\n",
       "salary                0\n",
       "salary_currency       0\n",
       "salary_in_usd         0\n",
       "employee_residence    0\n",
       "remote_ratio          0\n",
       "company_location      0\n",
       "company_size          0\n",
       "dtype: int64"
      ]
     },
     "execution_count": 6,
     "metadata": {},
     "output_type": "execute_result"
    }
   ],
   "source": [
    "df.isnull().sum() #количество пустых строк"
   ]
  },
  {
   "attachments": {},
   "cell_type": "markdown",
   "metadata": {},
   "source": [
    "There's no missing value on the dataset"
   ]
  },
  {
   "cell_type": "code",
   "execution_count": 7,
   "metadata": {},
   "outputs": [
    {
     "data": {
      "text/plain": [
       "0"
      ]
     },
     "execution_count": 7,
     "metadata": {},
     "output_type": "execute_result"
    }
   ],
   "source": [
    "df.duplicated().sum()"
   ]
  },
  {
   "attachments": {},
   "cell_type": "markdown",
   "metadata": {},
   "source": [
    "There's no duplicates on the dataset"
   ]
  },
  {
   "cell_type": "code",
   "execution_count": 8,
   "metadata": {},
   "outputs": [],
   "source": [
    "df['experience_level'] = df['experience_level'].replace('EN','Junior')\n",
    "df['experience_level'] = df['experience_level'].replace('MI','Middle')\n",
    "df['experience_level'] = df['experience_level'].replace('SE','Senior')\n",
    "df['experience_level'] = df['experience_level'].replace('EX','Executive')"
   ]
  },
  {
   "attachments": {},
   "cell_type": "markdown",
   "metadata": {},
   "source": [
    "## Salary distribution"
   ]
  },
  {
   "cell_type": "code",
   "execution_count": 9,
   "metadata": {},
   "outputs": [],
   "source": [
    "df['salary_in_TH_usd'] = df['salary_in_usd'] / 1000"
   ]
  },
  {
   "cell_type": "code",
   "execution_count": 10,
   "metadata": {},
   "outputs": [
    {
     "data": {
      "image/png": "[encoded data removed]",
      "text/plain": [
       "<Figure size 640x480 with 1 Axes>"
      ]
     },
     "metadata": {},
     "output_type": "display_data"
    }
   ],
   "source": [
    "\n",
    "sns.histplot(df['salary_in_TH_usd'], bins = 30)\n",
    "plt.title('Salary distribution')\n",
    "plt.xlabel('Salary, TH $')\n",
    "plt.ylabel('Q-ty of data scientiests');\n",
    "plt.minorticks_on()"
   ]
  },
  {
   "cell_type": "code",
   "execution_count": 11,
   "metadata": {},
   "outputs": [
    {
     "name": "stderr",
     "output_type": "stream",
     "text": [
      "c:\\Users\\Nadezhda\\anaconda3\\lib\\site-packages\\seaborn\\_decorators.py:36: FutureWarning: Pass the following variable as a keyword arg: x. From version 0.12, the only valid positional argument will be `data`, and passing other arguments without an explicit keyword will result in an error or misinterpretation.\n",
      "  warnings.warn(\n"
     ]
    },
    {
     "data": {
      "text/plain": [
       "Text(101.57, -0.5, 'Median: 102')"
      ]
     },
     "execution_count": 11,
     "metadata": {},
     "output_type": "execute_result"
    },
    {
     "data": {
      "image/png": "[encoded data removed]",
      "text/plain": [
       "<Figure size 1000x200 with 1 Axes>"
      ]
     },
     "metadata": {},
     "output_type": "display_data"
    }
   ],
   "source": [
    "\n",
    "\n",
    "plt.figure(figsize=(10, 2))\n",
    "sns.boxplot(df['salary_in_TH_usd'], showfliers=False)\n",
    "\n",
    "\n",
    "\n",
    "# Добавляем значение медианы\n",
    "median = np.median(df['salary_in_TH_usd'])\n",
    "plt.annotate(f'Median: {median:.0f}', \n",
    "            xy=(median, -0.3), #положение подписываемой штуки\n",
    "            xytext=(median, -0.5), #положение подписи  \n",
    "            arrowprops=dict(facecolor='red', shrink=0))#формат стрелочки;"
   ]
  },
  {
   "cell_type": "code",
   "execution_count": 12,
   "metadata": {},
   "outputs": [
    {
     "data": {
      "image/png": "[encoded data removed]",
      "text/plain": [
       "<Figure size 1200x500 with 2 Axes>"
      ]
     },
     "metadata": {},
     "output_type": "display_data"
    }
   ],
   "source": [
    "# создаем subplot\n",
    "fig, ax = plt.subplots(2, 1, figsize=(10, 2), gridspec_kw={'height_ratios': [3, 1]})\n",
    "\n",
    "# задаем гистограмму в первом subplot\n",
    "sns.histplot(ax=ax[0], data=df, x='salary_in_TH_usd', bins=30)\n",
    "ax[0].set(title='Salary distribution', ylabel='Q-ty of data scientiests', xlabel='')\n",
    "ax[0].set_xticklabels([])  # скрываем подписи на оси абсцисс\n",
    "ax[0].minorticks_on()\n",
    "\n",
    "# задаем боксплот во втором subplot\n",
    "sns.boxplot(ax=ax[1], data=df, x='salary_in_TH_usd', showfliers= True)\n",
    "\n",
    "# Добавляем значение медианы\n",
    "median = np.median(df['salary_in_TH_usd'])\n",
    "plt.annotate(f'Median: {median:.0f}', \n",
    "            xy=(median, -0.4), #положение подписываемой штуки\n",
    "            xytext=(median, -0.7), #положение подписи  \n",
    "            arrowprops=dict(facecolor='red', shrink=0))#формат стрелочки;\n",
    "fig.set_size_inches(12, 5)\n",
    "\n",
    "# отображаем графики\n",
    "plt.show();"
   ]
  },
  {
   "attachments": {},
   "cell_type": "markdown",
   "metadata": {},
   "source": [
    "## experience_level"
   ]
  },
  {
   "cell_type": "code",
   "execution_count": 13,
   "metadata": {},
   "outputs": [
    {
     "data": {
      "text/plain": [
       "Senior       280\n",
       "Middle       213\n",
       "Junior        88\n",
       "Executive     26\n",
       "Name: experience_level, dtype: int64"
      ]
     },
     "execution_count": 13,
     "metadata": {},
     "output_type": "execute_result"
    }
   ],
   "source": [
    "counts = df['experience_level'].value_counts()\n",
    "counts"
   ]
  },
  {
   "cell_type": "code",
   "execution_count": 14,
   "metadata": {},
   "outputs": [
    {
     "data": {
      "image/png": "[encoded data removed]",
      "text/plain": [
       "<Figure size 600x600 with 1 Axes>"
      ]
     },
     "metadata": {},
     "output_type": "display_data"
    }
   ],
   "source": [
    "order = ['Junior', 'Middle', 'Senior','Executive']\n",
    "plt.figure(figsize= (6, 6))\n",
    "colors = sns.color_palette('muted')[ 0:5 ] #define Seaborn color palette to use\n",
    "plt.pie(counts, autopct='%1.1f%%', colors = colors)\n",
    "plt.title('Experience Level')\n",
    "plt.legend(counts.index, loc='upper right', fontsize=10);"
   ]
  },
  {
   "cell_type": "code",
   "execution_count": 15,
   "metadata": {},
   "outputs": [
    {
     "data": {
      "application/vnd.plotly.v1+json": {
       "config": {
        "plotlyServerURL": "https://plot.ly"
       },
       "data": [
        {
         "domain": {
          "x": [
           0,
           1
          ],
          "y": [
           0,
           1
          ]
         },
         "hovertemplate": "label=%{label}<br>value=%{value}<extra></extra>",
         "labels": [
          "Senior",
          "Middle",
          "Junior",
          "Executive"
         ],
         "legendgroup": "",
         "marker": {
          "line": {
           "width": 2
          }
         },
         "name": "",
         "showlegend": true,
         "textfont": {
          "size": 13
         },
         "textinfo": "label+percent",
         "type": "pie",
         "values": [
          280,
          213,
          88,
          26
         ]
        }
       ],
       "layout": {
        "legend": {
         "tracegroupgap": 0
        },
        "piecolorway": [
         "rgb(75, 41, 145)",
         "rgb(135, 44, 162)",
         "rgb(192, 54, 157)",
         "rgb(234, 79, 136)",
         "rgb(250, 120, 118)",
         "rgb(246, 169, 122)",
         "rgb(237, 217, 163)"
        ],
        "template": {
         "data": {
          "bar": [
           {
            "error_x": {
             "color": "#2a3f5f"
            },
            "error_y": {
             "color": "#2a3f5f"
            },
            "marker": {
             "line": {
              "color": "#E5ECF6",
              "width": 0.5
             },
             "pattern": {
              "fillmode": "overlay",
              "size": 10,
              "solidity": 0.2
             }
            },
            "type": "bar"
           }
          ],
          "barpolar": [
           {
            "marker": {
             "line": {
              "color": "#E5ECF6",
              "width": 0.5
             },
             "pattern": {
              "fillmode": "overlay",
              "size": 10,
              "solidity": 0.2
             }
            },
            "type": "barpolar"
           }
          ],
          "carpet": [
           {
            "aaxis": {
             "endlinecolor": "#2a3f5f",
             "gridcolor": "white",
             "linecolor": "white",
             "minorgridcolor": "white",
             "startlinecolor": "#2a3f5f"
            },
            "baxis": {
             "endlinecolor": "#2a3f5f",
             "gridcolor": "white",
             "linecolor": "white",
             "minorgridcolor": "white",
             "startlinecolor": "#2a3f5f"
            },
            "type": "carpet"
           }
          ],
          "choropleth": [
           {
            "colorbar": {
             "outlinewidth": 0,
             "ticks": ""
            },
            "type": "choropleth"
           }
          ],
          "contour": [
           {
            "colorbar": {
             "outlinewidth": 0,
             "ticks": ""
            },
            "colorscale": [
             [
              0,
              "#0d0887"
             ],
             [
              0.1111111111111111,
              "#46039f"
             ],
             [
              0.2222222222222222,
              "#7201a8"
             ],
             [
              0.3333333333333333,
              "#9c179e"
             ],
             [
              0.4444444444444444,
              "#bd3786"
             ],
             [
              0.5555555555555556,
              "#d8576b"
             ],
             [
              0.6666666666666666,
              "#ed7953"
             ],
             [
              0.7777777777777778,
              "#fb9f3a"
             ],
             [
              0.8888888888888888,
              "#fdca26"
             ],
             [
              1,
              "#f0f921"
             ]
            ],
            "type": "contour"
           }
          ],
          "contourcarpet": [
           {
            "colorbar": {
             "outlinewidth": 0,
             "ticks": ""
            },
            "type": "contourcarpet"
           }
          ],
          "heatmap": [
           {
            "colorbar": {
             "outlinewidth": 0,
             "ticks": ""
            },
            "colorscale": [
             [
              0,
              "#0d0887"
             ],
             [
              0.1111111111111111,
              "#46039f"
             ],
             [
              0.2222222222222222,
              "#7201a8"
             ],
             [
              0.3333333333333333,
              "#9c179e"
             ],
             [
              0.4444444444444444,
              "#bd3786"
             ],
             [
              0.5555555555555556,
              "#d8576b"
             ],
             [
              0.6666666666666666,
              "#ed7953"
             ],
             [
              0.7777777777777778,
              "#fb9f3a"
             ],
             [
              0.8888888888888888,
              "#fdca26"
             ],
             [
              1,
              "#f0f921"
             ]
            ],
            "type": "heatmap"
           }
          ],
          "heatmapgl": [
           {
            "colorbar": {
             "outlinewidth": 0,
             "ticks": ""
            },
            "colorscale": [
             [
              0,
              "#0d0887"
             ],
             [
              0.1111111111111111,
              "#46039f"
             ],
             [
              0.2222222222222222,
              "#7201a8"
             ],
             [
              0.3333333333333333,
              "#9c179e"
             ],
             [
              0.4444444444444444,
              "#bd3786"
             ],
             [
              0.5555555555555556,
              "#d8576b"
             ],
             [
              0.6666666666666666,
              "#ed7953"
             ],
             [
              0.7777777777777778,
              "#fb9f3a"
             ],
             [
              0.8888888888888888,
              "#fdca26"
             ],
             [
              1,
              "#f0f921"
             ]
            ],
            "type": "heatmapgl"
           }
          ],
          "histogram": [
           {
            "marker": {
             "pattern": {
              "fillmode": "overlay",
              "size": 10,
              "solidity": 0.2
             }
            },
            "type": "histogram"
           }
          ],
          "histogram2d": [
           {
            "colorbar": {
             "outlinewidth": 0,
             "ticks": ""
            },
            "colorscale": [
             [
              0,
              "#0d0887"
             ],
             [
              0.1111111111111111,
              "#46039f"
             ],
             [
              0.2222222222222222,
              "#7201a8"
             ],
             [
              0.3333333333333333,
              "#9c179e"
             ],
             [
              0.4444444444444444,
              "#bd3786"
             ],
             [
              0.5555555555555556,
              "#d8576b"
             ],
             [
              0.6666666666666666,
              "#ed7953"
             ],
             [
              0.7777777777777778,
              "#fb9f3a"
             ],
             [
              0.8888888888888888,
              "#fdca26"
             ],
             [
              1,
              "#f0f921"
             ]
            ],
            "type": "histogram2d"
           }
          ],
          "histogram2dcontour": [
           {
            "colorbar": {
             "outlinewidth": 0,
             "ticks": ""
            },
            "colorscale": [
             [
              0,
              "#0d0887"
             ],
             [
              0.1111111111111111,
              "#46039f"
             ],
             [
              0.2222222222222222,
              "#7201a8"
             ],
             [
              0.3333333333333333,
              "#9c179e"
             ],
             [
              0.4444444444444444,
              "#bd3786"
             ],
             [
              0.5555555555555556,
              "#d8576b"
             ],
             [
              0.6666666666666666,
              "#ed7953"
             ],
             [
              0.7777777777777778,
              "#fb9f3a"
             ],
             [
              0.8888888888888888,
              "#fdca26"
             ],
             [
              1,
              "#f0f921"
             ]
            ],
            "type": "histogram2dcontour"
           }
          ],
          "mesh3d": [
           {
            "colorbar": {
             "outlinewidth": 0,
             "ticks": ""
            },
            "type": "mesh3d"
           }
          ],
          "parcoords": [
           {
            "line": {
             "colorbar": {
              "outlinewidth": 0,
              "ticks": ""
             }
            },
            "type": "parcoords"
           }
          ],
          "pie": [
           {
            "automargin": true,
            "type": "pie"
           }
          ],
          "scatter": [
           {
            "fillpattern": {
             "fillmode": "overlay",
             "size": 10,
             "solidity": 0.2
            },
            "type": "scatter"
           }
          ],
          "scatter3d": [
           {
            "line": {
             "colorbar": {
              "outlinewidth": 0,
              "ticks": ""
             }
            },
            "marker": {
             "colorbar": {
              "outlinewidth": 0,
              "ticks": ""
             }
            },
            "type": "scatter3d"
           }
          ],
          "scattercarpet": [
           {
            "marker": {
             "colorbar": {
              "outlinewidth": 0,
              "ticks": ""
             }
            },
            "type": "scattercarpet"
           }
          ],
          "scattergeo": [
           {
            "marker": {
             "colorbar": {
              "outlinewidth": 0,
              "ticks": ""
             }
            },
            "type": "scattergeo"
           }
          ],
          "scattergl": [
           {
            "marker": {
             "colorbar": {
              "outlinewidth": 0,
              "ticks": ""
             }
            },
            "type": "scattergl"
           }
          ],
          "scattermapbox": [
           {
            "marker": {
             "colorbar": {
              "outlinewidth": 0,
              "ticks": ""
             }
            },
            "type": "scattermapbox"
           }
          ],
          "scatterpolar": [
           {
            "marker": {
             "colorbar": {
              "outlinewidth": 0,
              "ticks": ""
             }
            },
            "type": "scatterpolar"
           }
          ],
          "scatterpolargl": [
           {
            "marker": {
             "colorbar": {
              "outlinewidth": 0,
              "ticks": ""
             }
            },
            "type": "scatterpolargl"
           }
          ],
          "scatterternary": [
           {
            "marker": {
             "colorbar": {
              "outlinewidth": 0,
              "ticks": ""
             }
            },
            "type": "scatterternary"
           }
          ],
          "surface": [
           {
            "colorbar": {
             "outlinewidth": 0,
             "ticks": ""
            },
            "colorscale": [
             [
              0,
              "#0d0887"
             ],
             [
              0.1111111111111111,
              "#46039f"
             ],
             [
              0.2222222222222222,
              "#7201a8"
             ],
             [
              0.3333333333333333,
              "#9c179e"
             ],
             [
              0.4444444444444444,
              "#bd3786"
             ],
             [
              0.5555555555555556,
              "#d8576b"
             ],
             [
              0.6666666666666666,
              "#ed7953"
             ],
             [
              0.7777777777777778,
              "#fb9f3a"
             ],
             [
              0.8888888888888888,
              "#fdca26"
             ],
             [
              1,
              "#f0f921"
             ]
            ],
            "type": "surface"
           }
          ],
          "table": [
           {
            "cells": {
             "fill": {
              "color": "#EBF0F8"
             },
             "line": {
              "color": "white"
             }
            },
            "header": {
             "fill": {
              "color": "#C8D4E3"
             },
             "line": {
              "color": "white"
             }
            },
            "type": "table"
           }
          ]
         },
         "layout": {
          "annotationdefaults": {
           "arrowcolor": "#2a3f5f",
           "arrowhead": 0,
           "arrowwidth": 1
          },
          "autotypenumbers": "strict",
          "coloraxis": {
           "colorbar": {
            "outlinewidth": 0,
            "ticks": ""
           }
          },
          "colorscale": {
           "diverging": [
            [
             0,
             "#8e0152"
            ],
            [
             0.1,
             "#c51b7d"
            ],
            [
             0.2,
             "#de77ae"
            ],
            [
             0.3,
             "#f1b6da"
            ],
            [
             0.4,
             "#fde0ef"
            ],
            [
             0.5,
             "#f7f7f7"
            ],
            [
             0.6,
             "#e6f5d0"
            ],
            [
             0.7,
             "#b8e186"
            ],
            [
             0.8,
             "#7fbc41"
            ],
            [
             0.9,
             "#4d9221"
            ],
            [
             1,
             "#276419"
            ]
           ],
           "sequential": [
            [
             0,
             "#0d0887"
            ],
            [
             0.1111111111111111,
             "#46039f"
            ],
            [
             0.2222222222222222,
             "#7201a8"
            ],
            [
             0.3333333333333333,
             "#9c179e"
            ],
            [
             0.4444444444444444,
             "#bd3786"
            ],
            [
             0.5555555555555556,
             "#d8576b"
            ],
            [
             0.6666666666666666,
             "#ed7953"
            ],
            [
             0.7777777777777778,
             "#fb9f3a"
            ],
            [
             0.8888888888888888,
             "#fdca26"
            ],
            [
             1,
             "#f0f921"
            ]
           ],
           "sequentialminus": [
            [
             0,
             "#0d0887"
            ],
            [
             0.1111111111111111,
             "#46039f"
            ],
            [
             0.2222222222222222,
             "#7201a8"
            ],
            [
             0.3333333333333333,
             "#9c179e"
            ],
            [
             0.4444444444444444,
             "#bd3786"
            ],
            [
             0.5555555555555556,
             "#d8576b"
            ],
            [
             0.6666666666666666,
             "#ed7953"
            ],
            [
             0.7777777777777778,
             "#fb9f3a"
            ],
            [
             0.8888888888888888,
             "#fdca26"
            ],
            [
             1,
             "#f0f921"
            ]
           ]
          },
          "colorway": [
           "#636efa",
           "#EF553B",
           "#00cc96",
           "#ab63fa",
           "#FFA15A",
           "#19d3f3",
           "#FF6692",
           "#B6E880",
           "#FF97FF",
           "#FECB52"
          ],
          "font": {
           "color": "#2a3f5f"
          },
          "geo": {
           "bgcolor": "white",
           "lakecolor": "white",
           "landcolor": "#E5ECF6",
           "showlakes": true,
           "showland": true,
           "subunitcolor": "white"
          },
          "hoverlabel": {
           "align": "left"
          },
          "hovermode": "closest",
          "mapbox": {
           "style": "light"
          },
          "paper_bgcolor": "white",
          "plot_bgcolor": "#E5ECF6",
          "polar": {
           "angularaxis": {
            "gridcolor": "white",
            "linecolor": "white",
            "ticks": ""
           },
           "bgcolor": "#E5ECF6",
           "radialaxis": {
            "gridcolor": "white",
            "linecolor": "white",
            "ticks": ""
           }
          },
          "scene": {
           "xaxis": {
            "backgroundcolor": "#E5ECF6",
            "gridcolor": "white",
            "gridwidth": 2,
            "linecolor": "white",
            "showbackground": true,
            "ticks": "",
            "zerolinecolor": "white"
           },
           "yaxis": {
            "backgroundcolor": "#E5ECF6",
            "gridcolor": "white",
            "gridwidth": 2,
            "linecolor": "white",
            "showbackground": true,
            "ticks": "",
            "zerolinecolor": "white"
           },
           "zaxis": {
            "backgroundcolor": "#E5ECF6",
            "gridcolor": "white",
            "gridwidth": 2,
            "linecolor": "white",
            "showbackground": true,
            "ticks": "",
            "zerolinecolor": "white"
           }
          },
          "shapedefaults": {
           "line": {
            "color": "#2a3f5f"
           }
          },
          "ternary": {
           "aaxis": {
            "gridcolor": "white",
            "linecolor": "white",
            "ticks": ""
           },
           "baxis": {
            "gridcolor": "white",
            "linecolor": "white",
            "ticks": ""
           },
           "bgcolor": "#E5ECF6",
           "caxis": {
            "gridcolor": "white",
            "linecolor": "white",
            "ticks": ""
           }
          },
          "title": {
           "x": 0.05
          },
          "xaxis": {
           "automargin": true,
           "gridcolor": "white",
           "linecolor": "white",
           "ticks": "",
           "title": {
            "standoff": 15
           },
           "zerolinecolor": "white",
           "zerolinewidth": 2
          },
          "yaxis": {
           "automargin": true,
           "gridcolor": "white",
           "linecolor": "white",
           "ticks": "",
           "title": {
            "standoff": 15
           },
           "zerolinecolor": "white",
           "zerolinewidth": 2
          }
         }
        },
        "title": {
         "text": "Experience level distribution"
        }
       }
      }
     },
     "metadata": {},
     "output_type": "display_data"
    },
    {
     "data": {
      "text/plain": [
       "<Figure size 600x600 with 0 Axes>"
      ]
     },
     "metadata": {},
     "output_type": "display_data"
    }
   ],
   "source": [
    "plt.figure(figsize= (6, 6))\n",
    "fig=px.pie(values=counts.values,\n",
    "          names=counts.index,\n",
    "          color_discrete_sequence=px.colors.sequential.Agsunset,   # https://media.geeksforgeeks.org/wp-content/uploads/20220220154706/newplot.png\n",
    "          title= 'Experience level distribution'\n",
    "        #   ,template='plotly_dark'\n",
    "          )\n",
    "fig.update_traces(textinfo='label+percent', textfont_size=13\n",
    "                   )\n",
    "\n",
    "fig.data[0].marker.line.width = 2\n",
    "# fig.data[0].marker.line.color='gray'\n",
    "fig.show();"
   ]
  },
  {
   "cell_type": "code",
   "execution_count": 16,
   "metadata": {},
   "outputs": [
    {
     "data": {
      "text/plain": [
       "Text(0.5, 1.0, 'Experience Level')"
      ]
     },
     "execution_count": 16,
     "metadata": {},
     "output_type": "execute_result"
    },
    {
     "data": {
      "image/png": "[encoded data removed]",
      "text/plain": [
       "<Figure size 640x480 with 1 Axes>"
      ]
     },
     "metadata": {},
     "output_type": "display_data"
    }
   ],
   "source": [
    "order = ['Junior', 'Middle', 'Senior','Executive']\n",
    "# Sorting indices so it's easier to read \n",
    "counts.sort_index(inplace=True)\n",
    "\n",
    "sns.barplot(x = counts.index, y = counts, order=order)\n",
    "plt.ylabel('counts')\n",
    "\n",
    "\n",
    "plt.title('Experience Level')\n"
   ]
  },
  {
   "cell_type": "code",
   "execution_count": 17,
   "metadata": {},
   "outputs": [
    {
     "data": {
      "image/png": "[encoded data removed]",
      "text/plain": [
       "<Figure size 640x480 with 1 Axes>"
      ]
     },
     "metadata": {},
     "output_type": "display_data"
    },
    {
     "data": {
      "image/png": "[encoded data removed]",
      "text/plain": [
       "<Figure size 640x480 with 1 Axes>"
      ]
     },
     "metadata": {},
     "output_type": "display_data"
    },
    {
     "data": {
      "image/png": "[encoded data removed]",
      "text/plain": [
       "<Figure size 640x480 with 1 Axes>"
      ]
     },
     "metadata": {},
     "output_type": "display_data"
    }
   ],
   "source": [
    "\n",
    "\n",
    "years = df['work_year'].unique()    # получаем уникальные года из столбца work_year\n",
    "order = ['Junior', 'Middle', 'Senior', 'Executive']\n",
    "\n",
    "for year in years:\n",
    "    data = df[df['work_year'] == year]    # выбираем данные только для определенного года\n",
    "    sns.boxplot(x=data['salary_in_TH_usd'], y=data['experience_level'], order=order, showfliers=False)\n",
    "    plt.title('The relationship between salary and experience_level for year {}'.format(year))\n",
    "    plt.show()\n"
   ]
  },
  {
   "cell_type": "code",
   "execution_count": 18,
   "metadata": {},
   "outputs": [
    {
     "data": {
      "image/png": "[encoded data removed]",
      "text/plain": [
       "<Figure size 640x480 with 1 Axes>"
      ]
     },
     "metadata": {},
     "output_type": "display_data"
    }
   ],
   "source": [
    "order = ['Junior', 'Middle', 'Senior','Executive']\n",
    "sns.boxplot(x=df['salary_in_TH_usd'],\n",
    "             y=df['experience_level'], \n",
    "             order=order,\n",
    "             hue=df['work_year'],\n",
    "             showfliers = False)   \n",
    "plt.title('The relationship between salary and experience_level');"
   ]
  },
  {
   "cell_type": "code",
   "execution_count": 19,
   "metadata": {},
   "outputs": [
    {
     "data": {
      "image/png": "[encoded data removed]",
      "text/plain": [
       "<Figure size 640x480 with 1 Axes>"
      ]
     },
     "metadata": {},
     "output_type": "display_data"
    }
   ],
   "source": [
    "years = df['work_year'].unique()\n",
    "order = ['Junior', 'Middle', 'Senior', 'Executive']\n",
    "\n",
    "fig, ax = plt.subplots()\n",
    "\n",
    "def animate(year):\n",
    "    data = df[df['work_year'] == year]\n",
    "    sns.boxplot(ax=ax, x=data['salary_in_TH_usd'], y=data['experience_level'], order=order, showfliers=False)\n",
    "    ax.set_title('The relationship between salary and experience_level for year {}'.format(year))\n",
    "    display(fig)\n",
    "ani = animation.FuncAnimation(fig, animate, frames=years, repeat=True)\n",
    "# ax.autoscale()\n",
    "plt.show()\n",
    "fig.savefig(\"test.png\")\n",
    "\n"
   ]
  },
  {
   "cell_type": "code",
   "execution_count": 20,
   "metadata": {},
   "outputs": [
    {
     "data": {
      "image/png": "[encoded data removed]",
      "text/plain": [
       "<Figure size 640x480 with 1 Axes>"
      ]
     },
     "metadata": {},
     "output_type": "display_data"
    }
   ],
   "source": [
    "years = df['work_year'].unique()\n",
    "order = ['Junior', 'Middle', 'Senior', 'Executive']\n",
    "\n",
    "fig, ax = plt.subplots()\n",
    "\n",
    "def animate(year):\n",
    "    data = df[df['work_year'] == year]\n",
    "    sns.boxplot(ax=ax, x=data['salary_in_TH_usd'], y=data['experience_level'], order=order, showfliers=False)\n",
    "    ax.set_title('The relationship between salary and experience_level for year {}'.format(year))\n",
    "    display(fig)\n",
    "ani = animation.FuncAnimation(fig, animate, frames=years, repeat=True)\n",
    "# ax.autoscale()\n",
    "plt.show()\n",
    "fig.savefig(\"test.png\")\n"
   ]
  },
  {
   "cell_type": "code",
   "execution_count": null,
   "metadata": {},
   "outputs": [],
   "source": []
  },
  {
   "attachments": {},
   "cell_type": "markdown",
   "metadata": {},
   "source": [
    "## employment_type"
   ]
  },
  {
   "cell_type": "code",
   "execution_count": 21,
   "metadata": {},
   "outputs": [],
   "source": [
    "df['employment_type'] = df['employment_type'].replace('PT','Part-time')\n",
    "df['employment_type'] = df['employment_type'].replace('FT','Full-time')\n",
    "df['employment_type'] = df['employment_type'].replace('CT','Contract')\n",
    "df['employment_type'] = df['employment_type'].replace('FL','Freelance')"
   ]
  },
  {
   "cell_type": "code",
   "execution_count": 22,
   "metadata": {},
   "outputs": [],
   "source": [
    "counts = df['employment_type'].value_counts()"
   ]
  },
  {
   "cell_type": "code",
   "execution_count": 23,
   "metadata": {},
   "outputs": [
    {
     "data": {
      "text/plain": [
       "Text(0.5, 1.0, 'employment type')"
      ]
     },
     "execution_count": 23,
     "metadata": {},
     "output_type": "execute_result"
    },
    {
     "data": {
      "image/png": "[encoded data removed]",
      "text/plain": [
       "<Figure size 640x480 with 1 Axes>"
      ]
     },
     "metadata": {},
     "output_type": "display_data"
    }
   ],
   "source": [
    "# Sorting indices so it's easier to read \n",
    "counts.sort_values(inplace=True, ascending=False)\n",
    "\n",
    "sns.barplot(y=counts.index, x=counts.values, orient='h')\n",
    "plt.ylabel('counts')\n",
    "\n",
    "\n",
    "plt.title('employment type')\n"
   ]
  },
  {
   "cell_type": "code",
   "execution_count": 24,
   "metadata": {},
   "outputs": [
    {
     "data": {
      "image/png": "[encoded data removed]",
      "text/plain": [
       "<Figure size 640x480 with 1 Axes>"
      ]
     },
     "metadata": {},
     "output_type": "display_data"
    }
   ],
   "source": [
    "order = counts.index\n",
    "sns.boxplot(x=df['salary_in_TH_usd'], y=df['employment_type'], showfliers = True, order = order)   # bedrooms vs price boxplot  \n",
    "plt.title('The relationship between salary and employment_type');"
   ]
  },
  {
   "attachments": {},
   "cell_type": "markdown",
   "metadata": {},
   "source": [
    "## job_title"
   ]
  },
  {
   "cell_type": "code",
   "execution_count": 25,
   "metadata": {},
   "outputs": [
    {
     "data": {
      "text/plain": [
       "Data Scientist                              143\n",
       "Data Engineer                               132\n",
       "Data Analyst                                 97\n",
       "Machine Learning Engineer                    41\n",
       "Research Scientist                           16\n",
       "Data Science Manager                         12\n",
       "Data Architect                               11\n",
       "Big Data Engineer                             8\n",
       "Machine Learning Scientist                    8\n",
       "Principal Data Scientist                      7\n",
       "AI Scientist                                  7\n",
       "Data Science Consultant                       7\n",
       "Director of Data Science                      7\n",
       "Data Analytics Manager                        7\n",
       "ML Engineer                                   6\n",
       "Computer Vision Engineer                      6\n",
       "BI Data Analyst                               6\n",
       "Lead Data Engineer                            6\n",
       "Data Engineering Manager                      5\n",
       "Business Data Analyst                         5\n",
       "Head of Data                                  5\n",
       "Applied Data Scientist                        5\n",
       "Applied Machine Learning Scientist            4\n",
       "Head of Data Science                          4\n",
       "Analytics Engineer                            4\n",
       "Data Analytics Engineer                       4\n",
       "Machine Learning Developer                    3\n",
       "Machine Learning Infrastructure Engineer      3\n",
       "Lead Data Scientist                           3\n",
       "Computer Vision Software Engineer             3\n",
       "Lead Data Analyst                             3\n",
       "Data Science Engineer                         3\n",
       "Principal Data Engineer                       3\n",
       "Principal Data Analyst                        2\n",
       "ETL Developer                                 2\n",
       "Product Data Analyst                          2\n",
       "Director of Data Engineering                  2\n",
       "Financial Data Analyst                        2\n",
       "Cloud Data Engineer                           2\n",
       "Lead Machine Learning Engineer                1\n",
       "NLP Engineer                                  1\n",
       "Head of Machine Learning                      1\n",
       "3D Computer Vision Researcher                 1\n",
       "Data Specialist                               1\n",
       "Staff Data Scientist                          1\n",
       "Big Data Architect                            1\n",
       "Finance Data Analyst                          1\n",
       "Marketing Data Analyst                        1\n",
       "Machine Learning Manager                      1\n",
       "Data Analytics Lead                           1\n",
       "Name: job_title, dtype: int64"
      ]
     },
     "execution_count": 25,
     "metadata": {},
     "output_type": "execute_result"
    }
   ],
   "source": [
    "counts = df['job_title'].value_counts()\n",
    "counts"
   ]
  },
  {
   "cell_type": "code",
   "execution_count": 26,
   "metadata": {},
   "outputs": [
    {
     "data": {
      "text/plain": [
       "Text(0.5, 1.0, 'job_title')"
      ]
     },
     "execution_count": 26,
     "metadata": {},
     "output_type": "execute_result"
    },
    {
     "data": {
      "image/png": "[encoded data removed]",
      "text/plain": [
       "<Figure size 640x480 with 1 Axes>"
      ]
     },
     "metadata": {},
     "output_type": "display_data"
    }
   ],
   "source": [
    "# Sorting indices so it's easier to read \n",
    "counts.sort_values(inplace=True, ascending=False)\n",
    "\n",
    "sns.barplot(y=counts.index, x=counts.values, orient='h')\n",
    "plt.ylabel('counts')\n",
    "\n",
    "\n",
    "plt.title('job_title')\n"
   ]
  },
  {
   "cell_type": "code",
   "execution_count": 27,
   "metadata": {},
   "outputs": [
    {
     "name": "stderr",
     "output_type": "stream",
     "text": [
      "c:\\Users\\Nadezhda\\anaconda3\\lib\\site-packages\\matplotlib\\animation.py:887: UserWarning:\n",
      "\n",
      "Animation was deleted without rendering anything. This is most likely not intended. To prevent deletion, assign the Animation to a variable, e.g. `anim`, that exists until you have outputted the Animation using `plt.show()` or `anim.save()`.\n",
      "\n"
     ]
    },
    {
     "data": {
      "image/png": "[encoded data removed]",
      "text/plain": [
       "<Figure size 640x480 with 1 Axes>"
      ]
     },
     "metadata": {},
     "output_type": "display_data"
    }
   ],
   "source": [
    " # Построим boxplot, чтобы увидеть, как цены разли**3.1. Взаимосвязь цены и количество ванных комнат (0,5)**чных квартир/домов связаны c bedrooms, bathrooms, sqft_living, floors.  \n",
    "sns.boxplot(x=df['salary_in_TH_usd'], y=df['job_title'], showfliers = True)   # bedrooms vs price boxplot  \n",
    "plt.title('The relationship between price and number of bedrooms');"
   ]
  },
  {
   "cell_type": "code",
   "execution_count": 28,
   "metadata": {},
   "outputs": [
    {
     "data": {
      "text/plain": [
       "Full-time    588\n",
       "Part-time     10\n",
       "Contract       5\n",
       "Freelance      4\n",
       "Name: employment_type, dtype: int64"
      ]
     },
     "execution_count": 28,
     "metadata": {},
     "output_type": "execute_result"
    }
   ],
   "source": [
    "df['employment_type'].value_counts()"
   ]
  },
  {
   "attachments": {},
   "cell_type": "markdown",
   "metadata": {},
   "source": [
    "## Regions"
   ]
  },
  {
   "cell_type": "code",
   "execution_count": 29,
   "metadata": {},
   "outputs": [],
   "source": [
    "ISO3166 = {\n",
    "\t'AD': 'Andorra',\n",
    "\t'AE': 'United Arab Emirates',\n",
    "\t'AF': 'Afghanistan',\n",
    "\t'AG': 'Antigua & Barbuda',\n",
    "\t'AI': 'Anguilla',\n",
    "\t'AL': 'Albania',\n",
    "\t'AM': 'Armenia',\n",
    "\t'AN': 'Netherlands Antilles',\n",
    "\t'AO': 'Angola',\n",
    "\t'AQ': 'Antarctica',\n",
    "\t'AR': 'Argentina',\n",
    "\t'AS': 'American Samoa',\n",
    "\t'AT': 'Austria',\n",
    "\t'AU': 'Australia',\n",
    "\t'AW': 'Aruba',\n",
    "\t'AZ': 'Azerbaijan',\n",
    "\t'BA': 'Bosnia and Herzegovina',\n",
    "\t'BB': 'Barbados',\n",
    "\t'BD': 'Bangladesh',\n",
    "\t'BE': 'Belgium',\n",
    "\t'BF': 'Burkina Faso',\n",
    "\t'BG': 'Bulgaria',\n",
    "\t'BH': 'Bahrain',\n",
    "\t'BI': 'Burundi',\n",
    "\t'BJ': 'Benin',\n",
    "\t'BM': 'Bermuda',\n",
    "\t'BN': 'Brunei Darussalam',\n",
    "\t'BO': 'Bolivia',\n",
    "\t'BR': 'Brazil',\n",
    "\t'BS': 'Bahama',\n",
    "\t'BT': 'Bhutan',\n",
    "\t'BU': 'Burma (no longer exists)',\n",
    "\t'BV': 'Bouvet Island',\n",
    "\t'BW': 'Botswana',\n",
    "\t'BY': 'Belarus',\n",
    "\t'BZ': 'Belize',\n",
    "\t'CA': 'Canada',\n",
    "\t'CC': 'Cocos (Keeling) Islands',\n",
    "\t'CF': 'Central African Republic',\n",
    "\t'CG': 'Congo',\n",
    "\t'CH': 'Switzerland',\n",
    "\t'CI': 'Côte D\\'ivoire (Ivory Coast)',\n",
    "\t'CK': 'Cook Iislands',\n",
    "\t'CL': 'Chile',\n",
    "\t'CM': 'Cameroon',\n",
    "\t'CN': 'China',\n",
    "\t'CO': 'Colombia',\n",
    "\t'CR': 'Costa Rica',\n",
    "\t'CS': 'Czechoslovakia (no longer exists)',\n",
    "\t'CU': 'Cuba',\n",
    "\t'CV': 'Cape Verde',\n",
    "\t'CX': 'Christmas Island',\n",
    "\t'CY': 'Cyprus',\n",
    "\t'CZ': 'Czech Republic',\n",
    "\t'DD': 'German Democratic Republic (no longer exists)',\n",
    "\t'DE': 'Germany',\n",
    "\t'DJ': 'Djibouti',\n",
    "\t'DK': 'Denmark',\n",
    "\t'DM': 'Dominica',\n",
    "\t'DO': 'Dominican Republic',\n",
    "\t'DZ': 'Algeria',\n",
    "\t'EC': 'Ecuador',\n",
    "\t'EE': 'Estonia',\n",
    "\t'EG': 'Egypt',\n",
    "\t'EH': 'Western Sahara',\n",
    "\t'ER': 'Eritrea',\n",
    "\t'ES': 'Spain',\n",
    "\t'ET': 'Ethiopia',\n",
    "\t'FI': 'Finland',\n",
    "\t'FJ': 'Fiji',\n",
    "\t'FK': 'Falkland Islands (Malvinas)',\n",
    "\t'FM': 'Micronesia',\n",
    "\t'FO': 'Faroe Islands',\n",
    "\t'FR': 'France',\n",
    "\t'FX': 'France, Metropolitan',\n",
    "\t'GA': 'Gabon',\n",
    "\t'GB': 'United Kingdom (Great Britain)',\n",
    "\t'GD': 'Grenada',\n",
    "\t'GE': 'Georgia',\n",
    "\t'GF': 'French Guiana',\n",
    "\t'GH': 'Ghana',\n",
    "\t'GI': 'Gibraltar',\n",
    "\t'GL': 'Greenland',\n",
    "\t'GM': 'Gambia',\n",
    "\t'GN': 'Guinea',\n",
    "\t'GP': 'Guadeloupe',\n",
    "\t'GQ': 'Equatorial Guinea',\n",
    "\t'GR': 'Greece',\n",
    "\t'GS': 'South Georgia and the South Sandwich Islands',\n",
    "\t'GT': 'Guatemala',\n",
    "\t'GU': 'Guam',\n",
    "\t'GW': 'Guinea-Bissau',\n",
    "\t'GY': 'Guyana',\n",
    "\t'HK': 'Hong Kong',\n",
    "\t'HM': 'Heard & McDonald Islands',\n",
    "\t'HN': 'Honduras',\n",
    "\t'HR': 'Croatia',\n",
    "\t'HT': 'Haiti',\n",
    "\t'HU': 'Hungary',\n",
    "\t'ID': 'Indonesia',\n",
    "\t'IE': 'Ireland',\n",
    "\t'IL': 'Israel',\n",
    "\t'IN': 'India',\n",
    "\t'IO': 'British Indian Ocean Territory',\n",
    "\t'IQ': 'Iraq',\n",
    "\t'IR': 'Islamic Republic of Iran',\n",
    "\t'IS': 'Iceland',\n",
    "\t'IT': 'Italy',\n",
    "\t'JM': 'Jamaica',\n",
    "\t'JO': 'Jordan',\n",
    "\t'JP': 'Japan',\n",
    "\t'KE': 'Kenya',\n",
    "\t'KG': 'Kyrgyzstan',\n",
    "\t'KH': 'Cambodia',\n",
    "\t'KI': 'Kiribati',\n",
    "\t'KM': 'Comoros',\n",
    "\t'KN': 'St. Kitts and Nevis',\n",
    "\t'KP': 'Korea, Democratic People\\'s Republic of',\n",
    "\t'KR': 'Korea, Republic of',\n",
    "\t'KW': 'Kuwait',\n",
    "\t'KY': 'Cayman Islands',\n",
    "\t'KZ': 'Kazakhstan',\n",
    "\t'LA': 'Lao People\\'s Democratic Republic',\n",
    "\t'LB': 'Lebanon',\n",
    "\t'LC': 'Saint Lucia',\n",
    "\t'LI': 'Liechtenstein',\n",
    "\t'LK': 'Sri Lanka',\n",
    "\t'LR': 'Liberia',\n",
    "\t'LS': 'Lesotho',\n",
    "\t'LT': 'Lithuania',\n",
    "\t'LU': 'Luxembourg',\n",
    "\t'LV': 'Latvia',\n",
    "\t'LY': 'Libyan Arab Jamahiriya',\n",
    "\t'MA': 'Morocco',\n",
    "\t'MC': 'Monaco',\n",
    "\t'MD': 'Moldova, Republic of',\n",
    "\t'MG': 'Madagascar',\n",
    "\t'MH': 'Marshall Islands',\n",
    "\t'ML': 'Mali',\n",
    "\t'MN': 'Mongolia',\n",
    "\t'MM': 'Myanmar',\n",
    "\t'MO': 'Macau',\n",
    "\t'MP': 'Northern Mariana Islands',\n",
    "\t'MQ': 'Martinique',\n",
    "\t'MR': 'Mauritania',\n",
    "\t'MS': 'Monserrat',\n",
    "\t'MT': 'Malta',\n",
    "\t'MU': 'Mauritius',\n",
    "\t'MV': 'Maldives',\n",
    "\t'MW': 'Malawi',\n",
    "\t'MX': 'Mexico',\n",
    "\t'MY': 'Malaysia',\n",
    "\t'MZ': 'Mozambique',\n",
    "\t'NA': 'Namibia',\n",
    "\t'NC': 'New Caledonia',\n",
    "\t'NE': 'Niger',\n",
    "\t'NF': 'Norfolk Island',\n",
    "\t'NG': 'Nigeria',\n",
    "\t'NI': 'Nicaragua',\n",
    "\t'NL': 'Netherlands',\n",
    "\t'NO': 'Norway',\n",
    "\t'NP': 'Nepal',\n",
    "\t'NR': 'Nauru',\n",
    "\t'NT': 'Neutral Zone (no longer exists)',\n",
    "\t'NU': 'Niue',\n",
    "\t'NZ': 'New Zealand',\n",
    "\t'OM': 'Oman',\n",
    "\t'PA': 'Panama',\n",
    "\t'PE': 'Peru',\n",
    "\t'PF': 'French Polynesia',\n",
    "\t'PG': 'Papua New Guinea',\n",
    "\t'PH': 'Philippines',\n",
    "\t'PK': 'Pakistan',\n",
    "\t'PL': 'Poland',\n",
    "\t'PM': 'St. Pierre & Miquelon',\n",
    "\t'PN': 'Pitcairn',\n",
    "\t'PR': 'Puerto Rico',\n",
    "\t'PT': 'Portugal',\n",
    "\t'PW': 'Palau',\n",
    "\t'PY': 'Paraguay',\n",
    "\t'QA': 'Qatar',\n",
    "\t'RE': 'Réunion',\n",
    "\t'RO': 'Romania',\n",
    "\t'RU': 'Russian Federation',\n",
    "\t'RW': 'Rwanda',\n",
    "\t'SA': 'Saudi Arabia',\n",
    "\t'SB': 'Solomon Islands',\n",
    "\t'SC': 'Seychelles',\n",
    "\t'SD': 'Sudan',\n",
    "\t'SE': 'Sweden',\n",
    "\t'SG': 'Singapore',\n",
    "\t'SH': 'St. Helena',\n",
    "\t'SI': 'Slovenia',\n",
    "\t'SJ': 'Svalbard & Jan Mayen Islands',\n",
    "\t'SK': 'Slovakia',\n",
    "\t'SL': 'Sierra Leone',\n",
    "\t'SM': 'San Marino',\n",
    "\t'SN': 'Senegal',\n",
    "\t'SO': 'Somalia',\n",
    "\t'SR': 'Suriname',\n",
    "\t'ST': 'Sao Tome & Principe',\n",
    "\t'SU': 'Union of Soviet Socialist Republics (no longer exists)',\n",
    "\t'SV': 'El Salvador',\n",
    "\t'SY': 'Syrian Arab Republic',\n",
    "\t'SZ': 'Swaziland',\n",
    "\t'TC': 'Turks & Caicos Islands',\n",
    "\t'TD': 'Chad',\n",
    "\t'TF': 'French Southern Territories',\n",
    "\t'TG': 'Togo',\n",
    "\t'TH': 'Thailand',\n",
    "\t'TJ': 'Tajikistan',\n",
    "\t'TK': 'Tokelau',\n",
    "\t'TM': 'Turkmenistan',\n",
    "\t'TN': 'Tunisia',\n",
    "\t'TO': 'Tonga',\n",
    "\t'TP': 'East Timor',\n",
    "\t'TR': 'Turkey',\n",
    "\t'TT': 'Trinidad & Tobago',\n",
    "\t'TV': 'Tuvalu',\n",
    "\t'TW': 'Taiwan, Province of China',\n",
    "\t'TZ': 'Tanzania, United Republic of',\n",
    "\t'UA': 'Ukraine',\n",
    "\t'UG': 'Uganda',\n",
    "\t'UM': 'United States Minor Outlying Islands',\n",
    "\t'US': 'United States of America',\n",
    "\t'UY': 'Uruguay',\n",
    "\t'UZ': 'Uzbekistan',\n",
    "\t'VA': 'Vatican City State (Holy See)',\n",
    "\t'VC': 'St. Vincent & the Grenadines',\n",
    "\t'VE': 'Venezuela',\n",
    "\t'VG': 'British Virgin Islands',\n",
    "\t'VI': 'United States Virgin Islands',\n",
    "\t'VN': 'Viet Nam',\n",
    "\t'VU': 'Vanuatu',\n",
    "\t'WF': 'Wallis & Futuna Islands',\n",
    "\t'WS': 'Samoa',\n",
    "\t'YD': 'Democratic Yemen (no longer exists)',\n",
    "\t'YE': 'Yemen',\n",
    "\t'YT': 'Mayotte',\n",
    "\t'YU': 'Yugoslavia',\n",
    "\t'ZA': 'South Africa',\n",
    "\t'ZM': 'Zambia',\n",
    "\t'ZR': 'Zaire',\n",
    "\t'ZW': 'Zimbabwe',\n",
    "\t'ZZ': 'Unknown or unspecified country',\n",
    "}"
   ]
  },
  {
   "cell_type": "code",
   "execution_count": 30,
   "metadata": {},
   "outputs": [],
   "source": [
    "df['employee_residence_full'] = df['employee_residence'].map(ISO3166)\n",
    "df['company_location_full'] = df['company_location'].map(ISO3166)\n",
    "# The \"map()\" function is used here to apply the ISO3166 dictionary to each value in the \n",
    "# \"company_location\" column, replacing the string country name with its ISO3166 code."
   ]
  },
  {
   "cell_type": "code",
   "execution_count": 31,
   "metadata": {},
   "outputs": [
    {
     "data": {
      "text/html": [
       "<div>\n",
       "<style scoped>\n",
       "    .dataframe tbody tr th:only-of-type {\n",
       "        vertical-align: middle;\n",
       "    }\n",
       "\n",
       "    .dataframe tbody tr th {\n",
       "        vertical-align: top;\n",
       "    }\n",
       "\n",
       "    .dataframe thead th {\n",
       "        text-align: right;\n",
       "    }\n",
       "</style>\n",
       "<table border=\"1\" class=\"dataframe\">\n",
       "  <thead>\n",
       "    <tr style=\"text-align: right;\">\n",
       "      <th></th>\n",
       "      <th>company_location_full</th>\n",
       "      <th>salary_in_TH_usd_mean</th>\n",
       "      <th>salary_in_TH_usd_median</th>\n",
       "      <th>company_location_full_count</th>\n",
       "    </tr>\n",
       "  </thead>\n",
       "  <tbody>\n",
       "    <tr>\n",
       "      <th>0</th>\n",
       "      <td>Algeria</td>\n",
       "      <td>100.00</td>\n",
       "      <td>100.00</td>\n",
       "      <td>1</td>\n",
       "    </tr>\n",
       "    <tr>\n",
       "      <th>1</th>\n",
       "      <td>American Samoa</td>\n",
       "      <td>18.05</td>\n",
       "      <td>18.05</td>\n",
       "      <td>1</td>\n",
       "    </tr>\n",
       "    <tr>\n",
       "      <th>2</th>\n",
       "      <td>Australia</td>\n",
       "      <td>108.04</td>\n",
       "      <td>87.42</td>\n",
       "      <td>3</td>\n",
       "    </tr>\n",
       "    <tr>\n",
       "      <th>3</th>\n",
       "      <td>Austria</td>\n",
       "      <td>72.92</td>\n",
       "      <td>69.49</td>\n",
       "      <td>4</td>\n",
       "    </tr>\n",
       "    <tr>\n",
       "      <th>4</th>\n",
       "      <td>Belgium</td>\n",
       "      <td>85.70</td>\n",
       "      <td>85.70</td>\n",
       "      <td>2</td>\n",
       "    </tr>\n",
       "    <tr>\n",
       "      <th>5</th>\n",
       "      <td>Brazil</td>\n",
       "      <td>18.60</td>\n",
       "      <td>18.91</td>\n",
       "      <td>3</td>\n",
       "    </tr>\n",
       "    <tr>\n",
       "      <th>6</th>\n",
       "      <td>Canada</td>\n",
       "      <td>99.82</td>\n",
       "      <td>81.90</td>\n",
       "      <td>30</td>\n",
       "    </tr>\n",
       "    <tr>\n",
       "      <th>7</th>\n",
       "      <td>Chile</td>\n",
       "      <td>40.04</td>\n",
       "      <td>40.04</td>\n",
       "      <td>1</td>\n",
       "    </tr>\n",
       "    <tr>\n",
       "      <th>8</th>\n",
       "      <td>China</td>\n",
       "      <td>71.67</td>\n",
       "      <td>71.67</td>\n",
       "      <td>2</td>\n",
       "    </tr>\n",
       "    <tr>\n",
       "      <th>9</th>\n",
       "      <td>Colombia</td>\n",
       "      <td>21.84</td>\n",
       "      <td>21.84</td>\n",
       "      <td>1</td>\n",
       "    </tr>\n",
       "    <tr>\n",
       "      <th>10</th>\n",
       "      <td>Croatia</td>\n",
       "      <td>45.62</td>\n",
       "      <td>45.62</td>\n",
       "      <td>1</td>\n",
       "    </tr>\n",
       "    <tr>\n",
       "      <th>11</th>\n",
       "      <td>Czech Republic</td>\n",
       "      <td>50.94</td>\n",
       "      <td>50.94</td>\n",
       "      <td>2</td>\n",
       "    </tr>\n",
       "    <tr>\n",
       "      <th>12</th>\n",
       "      <td>Denmark</td>\n",
       "      <td>54.39</td>\n",
       "      <td>45.90</td>\n",
       "      <td>3</td>\n",
       "    </tr>\n",
       "    <tr>\n",
       "      <th>13</th>\n",
       "      <td>Estonia</td>\n",
       "      <td>32.97</td>\n",
       "      <td>32.97</td>\n",
       "      <td>1</td>\n",
       "    </tr>\n",
       "    <tr>\n",
       "      <th>14</th>\n",
       "      <td>France</td>\n",
       "      <td>63.97</td>\n",
       "      <td>56.74</td>\n",
       "      <td>15</td>\n",
       "    </tr>\n",
       "    <tr>\n",
       "      <th>15</th>\n",
       "      <td>Germany</td>\n",
       "      <td>81.89</td>\n",
       "      <td>78.02</td>\n",
       "      <td>28</td>\n",
       "    </tr>\n",
       "    <tr>\n",
       "      <th>16</th>\n",
       "      <td>Greece</td>\n",
       "      <td>52.29</td>\n",
       "      <td>49.46</td>\n",
       "      <td>11</td>\n",
       "    </tr>\n",
       "    <tr>\n",
       "      <th>17</th>\n",
       "      <td>Honduras</td>\n",
       "      <td>20.00</td>\n",
       "      <td>20.00</td>\n",
       "      <td>1</td>\n",
       "    </tr>\n",
       "    <tr>\n",
       "      <th>18</th>\n",
       "      <td>Hungary</td>\n",
       "      <td>35.74</td>\n",
       "      <td>35.74</td>\n",
       "      <td>1</td>\n",
       "    </tr>\n",
       "    <tr>\n",
       "      <th>19</th>\n",
       "      <td>India</td>\n",
       "      <td>28.58</td>\n",
       "      <td>22.12</td>\n",
       "      <td>24</td>\n",
       "    </tr>\n",
       "    <tr>\n",
       "      <th>20</th>\n",
       "      <td>Iraq</td>\n",
       "      <td>100.00</td>\n",
       "      <td>100.00</td>\n",
       "      <td>1</td>\n",
       "    </tr>\n",
       "    <tr>\n",
       "      <th>21</th>\n",
       "      <td>Ireland</td>\n",
       "      <td>71.44</td>\n",
       "      <td>71.44</td>\n",
       "      <td>1</td>\n",
       "    </tr>\n",
       "    <tr>\n",
       "      <th>22</th>\n",
       "      <td>Islamic Republic of Iran</td>\n",
       "      <td>4.00</td>\n",
       "      <td>4.00</td>\n",
       "      <td>1</td>\n",
       "    </tr>\n",
       "    <tr>\n",
       "      <th>23</th>\n",
       "      <td>Israel</td>\n",
       "      <td>119.06</td>\n",
       "      <td>119.06</td>\n",
       "      <td>1</td>\n",
       "    </tr>\n",
       "    <tr>\n",
       "      <th>24</th>\n",
       "      <td>Italy</td>\n",
       "      <td>36.37</td>\n",
       "      <td>36.37</td>\n",
       "      <td>2</td>\n",
       "    </tr>\n",
       "    <tr>\n",
       "      <th>25</th>\n",
       "      <td>Japan</td>\n",
       "      <td>114.13</td>\n",
       "      <td>75.68</td>\n",
       "      <td>6</td>\n",
       "    </tr>\n",
       "    <tr>\n",
       "      <th>26</th>\n",
       "      <td>Kenya</td>\n",
       "      <td>9.27</td>\n",
       "      <td>9.27</td>\n",
       "      <td>1</td>\n",
       "    </tr>\n",
       "    <tr>\n",
       "      <th>27</th>\n",
       "      <td>Luxembourg</td>\n",
       "      <td>43.94</td>\n",
       "      <td>59.10</td>\n",
       "      <td>3</td>\n",
       "    </tr>\n",
       "    <tr>\n",
       "      <th>28</th>\n",
       "      <td>Malaysia</td>\n",
       "      <td>40.00</td>\n",
       "      <td>40.00</td>\n",
       "      <td>1</td>\n",
       "    </tr>\n",
       "    <tr>\n",
       "      <th>29</th>\n",
       "      <td>Malta</td>\n",
       "      <td>28.37</td>\n",
       "      <td>28.37</td>\n",
       "      <td>1</td>\n",
       "    </tr>\n",
       "    <tr>\n",
       "      <th>30</th>\n",
       "      <td>Mexico</td>\n",
       "      <td>32.12</td>\n",
       "      <td>33.51</td>\n",
       "      <td>3</td>\n",
       "    </tr>\n",
       "    <tr>\n",
       "      <th>31</th>\n",
       "      <td>Moldova, Republic of</td>\n",
       "      <td>18.00</td>\n",
       "      <td>18.00</td>\n",
       "      <td>1</td>\n",
       "    </tr>\n",
       "    <tr>\n",
       "      <th>32</th>\n",
       "      <td>Netherlands</td>\n",
       "      <td>54.95</td>\n",
       "      <td>54.02</td>\n",
       "      <td>4</td>\n",
       "    </tr>\n",
       "    <tr>\n",
       "      <th>33</th>\n",
       "      <td>New Zealand</td>\n",
       "      <td>125.00</td>\n",
       "      <td>125.00</td>\n",
       "      <td>1</td>\n",
       "    </tr>\n",
       "    <tr>\n",
       "      <th>34</th>\n",
       "      <td>Nigeria</td>\n",
       "      <td>30.00</td>\n",
       "      <td>30.00</td>\n",
       "      <td>2</td>\n",
       "    </tr>\n",
       "    <tr>\n",
       "      <th>35</th>\n",
       "      <td>Pakistan</td>\n",
       "      <td>13.33</td>\n",
       "      <td>12.00</td>\n",
       "      <td>3</td>\n",
       "    </tr>\n",
       "    <tr>\n",
       "      <th>36</th>\n",
       "      <td>Poland</td>\n",
       "      <td>66.08</td>\n",
       "      <td>41.09</td>\n",
       "      <td>4</td>\n",
       "    </tr>\n",
       "    <tr>\n",
       "      <th>37</th>\n",
       "      <td>Portugal</td>\n",
       "      <td>47.79</td>\n",
       "      <td>54.22</td>\n",
       "      <td>4</td>\n",
       "    </tr>\n",
       "    <tr>\n",
       "      <th>38</th>\n",
       "      <td>Romania</td>\n",
       "      <td>60.00</td>\n",
       "      <td>60.00</td>\n",
       "      <td>1</td>\n",
       "    </tr>\n",
       "    <tr>\n",
       "      <th>39</th>\n",
       "      <td>Russian Federation</td>\n",
       "      <td>157.50</td>\n",
       "      <td>157.50</td>\n",
       "      <td>2</td>\n",
       "    </tr>\n",
       "    <tr>\n",
       "      <th>40</th>\n",
       "      <td>Singapore</td>\n",
       "      <td>89.29</td>\n",
       "      <td>89.29</td>\n",
       "      <td>1</td>\n",
       "    </tr>\n",
       "    <tr>\n",
       "      <th>41</th>\n",
       "      <td>Slovenia</td>\n",
       "      <td>63.83</td>\n",
       "      <td>63.83</td>\n",
       "      <td>2</td>\n",
       "    </tr>\n",
       "    <tr>\n",
       "      <th>42</th>\n",
       "      <td>Spain</td>\n",
       "      <td>53.06</td>\n",
       "      <td>48.37</td>\n",
       "      <td>14</td>\n",
       "    </tr>\n",
       "    <tr>\n",
       "      <th>43</th>\n",
       "      <td>Switzerland</td>\n",
       "      <td>64.11</td>\n",
       "      <td>64.11</td>\n",
       "      <td>2</td>\n",
       "    </tr>\n",
       "    <tr>\n",
       "      <th>44</th>\n",
       "      <td>Turkey</td>\n",
       "      <td>20.10</td>\n",
       "      <td>20.17</td>\n",
       "      <td>3</td>\n",
       "    </tr>\n",
       "    <tr>\n",
       "      <th>45</th>\n",
       "      <td>Ukraine</td>\n",
       "      <td>13.40</td>\n",
       "      <td>13.40</td>\n",
       "      <td>1</td>\n",
       "    </tr>\n",
       "    <tr>\n",
       "      <th>46</th>\n",
       "      <td>United Arab Emirates</td>\n",
       "      <td>100.00</td>\n",
       "      <td>115.00</td>\n",
       "      <td>3</td>\n",
       "    </tr>\n",
       "    <tr>\n",
       "      <th>47</th>\n",
       "      <td>United Kingdom (Great Britain)</td>\n",
       "      <td>81.58</td>\n",
       "      <td>78.53</td>\n",
       "      <td>47</td>\n",
       "    </tr>\n",
       "    <tr>\n",
       "      <th>48</th>\n",
       "      <td>United States of America</td>\n",
       "      <td>144.06</td>\n",
       "      <td>135.00</td>\n",
       "      <td>355</td>\n",
       "    </tr>\n",
       "    <tr>\n",
       "      <th>49</th>\n",
       "      <td>Viet Nam</td>\n",
       "      <td>4.00</td>\n",
       "      <td>4.00</td>\n",
       "      <td>1</td>\n",
       "    </tr>\n",
       "  </tbody>\n",
       "</table>\n",
       "</div>"
      ],
      "text/plain": [
       "             company_location_full  salary_in_TH_usd_mean  \\\n",
       "0                          Algeria                 100.00   \n",
       "1                   American Samoa                  18.05   \n",
       "2                        Australia                 108.04   \n",
       "3                          Austria                  72.92   \n",
       "4                          Belgium                  85.70   \n",
       "5                           Brazil                  18.60   \n",
       "6                           Canada                  99.82   \n",
       "7                            Chile                  40.04   \n",
       "8                            China                  71.67   \n",
       "9                         Colombia                  21.84   \n",
       "10                         Croatia                  45.62   \n",
       "11                  Czech Republic                  50.94   \n",
       "12                         Denmark                  54.39   \n",
       "13                         Estonia                  32.97   \n",
       "14                          France                  63.97   \n",
       "15                         Germany                  81.89   \n",
       "16                          Greece                  52.29   \n",
       "17                        Honduras                  20.00   \n",
       "18                         Hungary                  35.74   \n",
       "19                           India                  28.58   \n",
       "20                            Iraq                 100.00   \n",
       "21                         Ireland                  71.44   \n",
       "22        Islamic Republic of Iran                   4.00   \n",
       "23                          Israel                 119.06   \n",
       "24                           Italy                  36.37   \n",
       "25                           Japan                 114.13   \n",
       "26                           Kenya                   9.27   \n",
       "27                      Luxembourg                  43.94   \n",
       "28                        Malaysia                  40.00   \n",
       "29                           Malta                  28.37   \n",
       "30                          Mexico                  32.12   \n",
       "31            Moldova, Republic of                  18.00   \n",
       "32                     Netherlands                  54.95   \n",
       "33                     New Zealand                 125.00   \n",
       "34                         Nigeria                  30.00   \n",
       "35                        Pakistan                  13.33   \n",
       "36                          Poland                  66.08   \n",
       "37                        Portugal                  47.79   \n",
       "38                         Romania                  60.00   \n",
       "39              Russian Federation                 157.50   \n",
       "40                       Singapore                  89.29   \n",
       "41                        Slovenia                  63.83   \n",
       "42                           Spain                  53.06   \n",
       "43                     Switzerland                  64.11   \n",
       "44                          Turkey                  20.10   \n",
       "45                         Ukraine                  13.40   \n",
       "46            United Arab Emirates                 100.00   \n",
       "47  United Kingdom (Great Britain)                  81.58   \n",
       "48        United States of America                 144.06   \n",
       "49                        Viet Nam                   4.00   \n",
       "\n",
       "    salary_in_TH_usd_median  company_location_full_count  \n",
       "0                    100.00                            1  \n",
       "1                     18.05                            1  \n",
       "2                     87.42                            3  \n",
       "3                     69.49                            4  \n",
       "4                     85.70                            2  \n",
       "5                     18.91                            3  \n",
       "6                     81.90                           30  \n",
       "7                     40.04                            1  \n",
       "8                     71.67                            2  \n",
       "9                     21.84                            1  \n",
       "10                    45.62                            1  \n",
       "11                    50.94                            2  \n",
       "12                    45.90                            3  \n",
       "13                    32.97                            1  \n",
       "14                    56.74                           15  \n",
       "15                    78.02                           28  \n",
       "16                    49.46                           11  \n",
       "17                    20.00                            1  \n",
       "18                    35.74                            1  \n",
       "19                    22.12                           24  \n",
       "20                   100.00                            1  \n",
       "21                    71.44                            1  \n",
       "22                     4.00                            1  \n",
       "23                   119.06                            1  \n",
       "24                    36.37                            2  \n",
       "25                    75.68                            6  \n",
       "26                     9.27                            1  \n",
       "27                    59.10                            3  \n",
       "28                    40.00                            1  \n",
       "29                    28.37                            1  \n",
       "30                    33.51                            3  \n",
       "31                    18.00                            1  \n",
       "32                    54.02                            4  \n",
       "33                   125.00                            1  \n",
       "34                    30.00                            2  \n",
       "35                    12.00                            3  \n",
       "36                    41.09                            4  \n",
       "37                    54.22                            4  \n",
       "38                    60.00                            1  \n",
       "39                   157.50                            2  \n",
       "40                    89.29                            1  \n",
       "41                    63.83                            2  \n",
       "42                    48.37                           14  \n",
       "43                    64.11                            2  \n",
       "44                    20.17                            3  \n",
       "45                    13.40                            1  \n",
       "46                   115.00                            3  \n",
       "47                    78.53                           47  \n",
       "48                   135.00                          355  \n",
       "49                     4.00                            1  "
      ]
     },
     "execution_count": 31,
     "metadata": {},
     "output_type": "execute_result"
    }
   ],
   "source": [
    "result = df.groupby('company_location_full').agg(\n",
    "        {'salary_in_TH_usd':['mean', 'median'], \n",
    "        'company_location_full': 'count'})\n",
    "result = result.round(2) \n",
    "\n",
    "# Избавимся от двухэтажных индексов\n",
    "# https://stackoverflow.com/questions/14507794/pandas-how-to-flatten-a-hierarchical-index-in-columns\n",
    "result.columns = ['_'.join(col).strip() for col in result.columns.values]\n",
    "result = result.reset_index()\n",
    "result\n"
   ]
  },
  {
   "cell_type": "code",
   "execution_count": 34,
   "metadata": {},
   "outputs": [
    {
     "data": {
      "application/vnd.plotly.v1+json": {
       "config": {
        "plotlyServerURL": "https://plot.ly"
       },
       "data": [
        {
         "coloraxis": "coloraxis",
         "geo": "geo",
         "hovertemplate": "company_location_full=%{location}<br>salary_in_TH_usd_median=%{z}<extra></extra>",
         "locationmode": "country names",
         "locations": [
          "Algeria",
          "American Samoa",
          "Australia",
          "Austria",
          "Belgium",
          "Brazil",
          "Canada",
          "Chile",
          "China",
          "Colombia",
          "Croatia",
          "Czech Republic",
          "Denmark",
          "Estonia",
          "France",
          "Germany",
          "Greece",
          "Honduras",
          "Hungary",
          "India",
          "Iraq",
          "Ireland",
          "Islamic Republic of Iran",
          "Israel",
          "Italy",
          "Japan",
          "Kenya",
          "Luxembourg",
          "Malaysia",
          "Malta",
          "Mexico",
          "Moldova, Republic of",
          "Netherlands",
          "New Zealand",
          "Nigeria",
          "Pakistan",
          "Poland",
          "Portugal",
          "Romania",
          "Russian Federation",
          "Singapore",
          "Slovenia",
          "Spain",
          "Switzerland",
          "Turkey",
          "Ukraine",
          "United Arab Emirates",
          "United Kingdom (Great Britain)",
          "United States of America",
          "Viet Nam"
         ],
         "name": "",
         "type": "choropleth",
         "z": [
          100,
          18.05,
          87.42,
          69.49,
          85.7,
          18.91,
          81.9,
          40.04,
          71.67,
          21.84,
          45.62,
          50.94,
          45.9,
          32.97,
          56.74,
          78.02,
          49.46,
          20,
          35.74,
          22.12,
          100,
          71.44,
          4,
          119.06,
          36.37,
          75.68,
          9.27,
          59.1,
          40,
          28.37,
          33.51,
          18,
          54.02,
          125,
          30,
          12,
          41.09,
          54.22,
          60,
          157.5,
          89.29,
          63.83,
          48.37,
          64.11,
          20.17,
          13.4,
          115,
          78.53,
          135,
          4
         ]
        }
       ],
       "layout": {
        "coloraxis": {
         "colorbar": {
          "title": {
           "text": "salary_in_TH_usd_median"
          }
         },
         "colorscale": [
          [
           0,
           "rgb(51, 19, 23)"
          ],
          [
           0.09090909090909091,
           "rgb(79, 28, 33)"
          ],
          [
           0.18181818181818182,
           "rgb(108, 36, 36)"
          ],
          [
           0.2727272727272727,
           "rgb(135, 47, 32)"
          ],
          [
           0.36363636363636365,
           "rgb(157, 66, 25)"
          ],
          [
           0.45454545454545453,
           "rgb(174, 88, 20)"
          ],
          [
           0.5454545454545454,
           "rgb(188, 111, 19)"
          ],
          [
           0.6363636363636364,
           "rgb(199, 137, 22)"
          ],
          [
           0.7272727272727273,
           "rgb(209, 164, 32)"
          ],
          [
           0.8181818181818182,
           "rgb(217, 192, 44)"
          ],
          [
           0.9090909090909091,
           "rgb(222, 222, 59)"
          ],
          [
           1,
           "rgb(224, 253, 74)"
          ]
         ]
        },
        "font": {
         "family": "Franklin Gothic",
         "size": 17
        },
        "geo": {
         "center": {},
         "domain": {
          "x": [
           0,
           1
          ],
          "y": [
           0,
           1
          ]
         }
        },
        "legend": {
         "tracegroupgap": 0
        },
        "template": {
         "data": {
          "bar": [
           {
            "error_x": {
             "color": "#f2f5fa"
            },
            "error_y": {
             "color": "#f2f5fa"
            },
            "marker": {
             "line": {
              "color": "rgb(17,17,17)",
              "width": 0.5
             },
             "pattern": {
              "fillmode": "overlay",
              "size": 10,
              "solidity": 0.2
             }
            },
            "type": "bar"
           }
          ],
          "barpolar": [
           {
            "marker": {
             "line": {
              "color": "rgb(17,17,17)",
              "width": 0.5
             },
             "pattern": {
              "fillmode": "overlay",
              "size": 10,
              "solidity": 0.2
             }
            },
            "type": "barpolar"
           }
          ],
          "carpet": [
           {
            "aaxis": {
             "endlinecolor": "#A2B1C6",
             "gridcolor": "#506784",
             "linecolor": "#506784",
             "minorgridcolor": "#506784",
             "startlinecolor": "#A2B1C6"
            },
            "baxis": {
             "endlinecolor": "#A2B1C6",
             "gridcolor": "#506784",
             "linecolor": "#506784",
             "minorgridcolor": "#506784",
             "startlinecolor": "#A2B1C6"
            },
            "type": "carpet"
           }
          ],
          "choropleth": [
           {
            "colorbar": {
             "outlinewidth": 0,
             "ticks": ""
            },
            "type": "choropleth"
           }
          ],
          "contour": [
           {
            "colorbar": {
             "outlinewidth": 0,
             "ticks": ""
            },
            "colorscale": [
             [
              0,
              "#0d0887"
             ],
             [
              0.1111111111111111,
              "#46039f"
             ],
             [
              0.2222222222222222,
              "#7201a8"
             ],
             [
              0.3333333333333333,
              "#9c179e"
             ],
             [
              0.4444444444444444,
              "#bd3786"
             ],
             [
              0.5555555555555556,
              "#d8576b"
             ],
             [
              0.6666666666666666,
              "#ed7953"
             ],
             [
              0.7777777777777778,
              "#fb9f3a"
             ],
             [
              0.8888888888888888,
              "#fdca26"
             ],
             [
              1,
              "#f0f921"
             ]
            ],
            "type": "contour"
           }
          ],
          "contourcarpet": [
           {
            "colorbar": {
             "outlinewidth": 0,
             "ticks": ""
            },
            "type": "contourcarpet"
           }
          ],
          "heatmap": [
           {
            "colorbar": {
             "outlinewidth": 0,
             "ticks": ""
            },
            "colorscale": [
             [
              0,
              "#0d0887"
             ],
             [
              0.1111111111111111,
              "#46039f"
             ],
             [
              0.2222222222222222,
              "#7201a8"
             ],
             [
              0.3333333333333333,
              "#9c179e"
             ],
             [
              0.4444444444444444,
              "#bd3786"
             ],
             [
              0.5555555555555556,
              "#d8576b"
             ],
             [
              0.6666666666666666,
              "#ed7953"
             ],
             [
              0.7777777777777778,
              "#fb9f3a"
             ],
             [
              0.8888888888888888,
              "#fdca26"
             ],
             [
              1,
              "#f0f921"
             ]
            ],
            "type": "heatmap"
           }
          ],
          "heatmapgl": [
           {
            "colorbar": {
             "outlinewidth": 0,
             "ticks": ""
            },
            "colorscale": [
             [
              0,
              "#0d0887"
             ],
             [
              0.1111111111111111,
              "#46039f"
             ],
             [
              0.2222222222222222,
              "#7201a8"
             ],
             [
              0.3333333333333333,
              "#9c179e"
             ],
             [
              0.4444444444444444,
              "#bd3786"
             ],
             [
              0.5555555555555556,
              "#d8576b"
             ],
             [
              0.6666666666666666,
              "#ed7953"
             ],
             [
              0.7777777777777778,
              "#fb9f3a"
             ],
             [
              0.8888888888888888,
              "#fdca26"
             ],
             [
              1,
              "#f0f921"
             ]
            ],
            "type": "heatmapgl"
           }
          ],
          "histogram": [
           {
            "marker": {
             "pattern": {
              "fillmode": "overlay",
              "size": 10,
              "solidity": 0.2
             }
            },
            "type": "histogram"
           }
          ],
          "histogram2d": [
           {
            "colorbar": {
             "outlinewidth": 0,
             "ticks": ""
            },
            "colorscale": [
             [
              0,
              "#0d0887"
             ],
             [
              0.1111111111111111,
              "#46039f"
             ],
             [
              0.2222222222222222,
              "#7201a8"
             ],
             [
              0.3333333333333333,
              "#9c179e"
             ],
             [
              0.4444444444444444,
              "#bd3786"
             ],
             [
              0.5555555555555556,
              "#d8576b"
             ],
             [
              0.6666666666666666,
              "#ed7953"
             ],
             [
              0.7777777777777778,
              "#fb9f3a"
             ],
             [
              0.8888888888888888,
              "#fdca26"
             ],
             [
              1,
              "#f0f921"
             ]
            ],
            "type": "histogram2d"
           }
          ],
          "histogram2dcontour": [
           {
            "colorbar": {
             "outlinewidth": 0,
             "ticks": ""
            },
            "colorscale": [
             [
              0,
              "#0d0887"
             ],
             [
              0.1111111111111111,
              "#46039f"
             ],
             [
              0.2222222222222222,
              "#7201a8"
             ],
             [
              0.3333333333333333,
              "#9c179e"
             ],
             [
              0.4444444444444444,
              "#bd3786"
             ],
             [
              0.5555555555555556,
              "#d8576b"
             ],
             [
              0.6666666666666666,
              "#ed7953"
             ],
             [
              0.7777777777777778,
              "#fb9f3a"
             ],
             [
              0.8888888888888888,
              "#fdca26"
             ],
             [
              1,
              "#f0f921"
             ]
            ],
            "type": "histogram2dcontour"
           }
          ],
          "mesh3d": [
           {
            "colorbar": {
             "outlinewidth": 0,
             "ticks": ""
            },
            "type": "mesh3d"
           }
          ],
          "parcoords": [
           {
            "line": {
             "colorbar": {
              "outlinewidth": 0,
              "ticks": ""
             }
            },
            "type": "parcoords"
           }
          ],
          "pie": [
           {
            "automargin": true,
            "type": "pie"
           }
          ],
          "scatter": [
           {
            "marker": {
             "line": {
              "color": "#283442"
             }
            },
            "type": "scatter"
           }
          ],
          "scatter3d": [
           {
            "line": {
             "colorbar": {
              "outlinewidth": 0,
              "ticks": ""
             }
            },
            "marker": {
             "colorbar": {
              "outlinewidth": 0,
              "ticks": ""
             }
            },
            "type": "scatter3d"
           }
          ],
          "scattercarpet": [
           {
            "marker": {
             "colorbar": {
              "outlinewidth": 0,
              "ticks": ""
             }
            },
            "type": "scattercarpet"
           }
          ],
          "scattergeo": [
           {
            "marker": {
             "colorbar": {
              "outlinewidth": 0,
              "ticks": ""
             }
            },
            "type": "scattergeo"
           }
          ],
          "scattergl": [
           {
            "marker": {
             "line": {
              "color": "#283442"
             }
            },
            "type": "scattergl"
           }
          ],
          "scattermapbox": [
           {
            "marker": {
             "colorbar": {
              "outlinewidth": 0,
              "ticks": ""
             }
            },
            "type": "scattermapbox"
           }
          ],
          "scatterpolar": [
           {
            "marker": {
             "colorbar": {
              "outlinewidth": 0,
              "ticks": ""
             }
            },
            "type": "scatterpolar"
           }
          ],
          "scatterpolargl": [
           {
            "marker": {
             "colorbar": {
              "outlinewidth": 0,
              "ticks": ""
             }
            },
            "type": "scatterpolargl"
           }
          ],
          "scatterternary": [
           {
            "marker": {
             "colorbar": {
              "outlinewidth": 0,
              "ticks": ""
             }
            },
            "type": "scatterternary"
           }
          ],
          "surface": [
           {
            "colorbar": {
             "outlinewidth": 0,
             "ticks": ""
            },
            "colorscale": [
             [
              0,
              "#0d0887"
             ],
             [
              0.1111111111111111,
              "#46039f"
             ],
             [
              0.2222222222222222,
              "#7201a8"
             ],
             [
              0.3333333333333333,
              "#9c179e"
             ],
             [
              0.4444444444444444,
              "#bd3786"
             ],
             [
              0.5555555555555556,
              "#d8576b"
             ],
             [
              0.6666666666666666,
              "#ed7953"
             ],
             [
              0.7777777777777778,
              "#fb9f3a"
             ],
             [
              0.8888888888888888,
              "#fdca26"
             ],
             [
              1,
              "#f0f921"
             ]
            ],
            "type": "surface"
           }
          ],
          "table": [
           {
            "cells": {
             "fill": {
              "color": "#506784"
             },
             "line": {
              "color": "rgb(17,17,17)"
             }
            },
            "header": {
             "fill": {
              "color": "#2a3f5f"
             },
             "line": {
              "color": "rgb(17,17,17)"
             }
            },
            "type": "table"
           }
          ]
         },
         "layout": {
          "annotationdefaults": {
           "arrowcolor": "#f2f5fa",
           "arrowhead": 0,
           "arrowwidth": 1
          },
          "autotypenumbers": "strict",
          "coloraxis": {
           "colorbar": {
            "outlinewidth": 0,
            "ticks": ""
           }
          },
          "colorscale": {
           "diverging": [
            [
             0,
             "#8e0152"
            ],
            [
             0.1,
             "#c51b7d"
            ],
            [
             0.2,
             "#de77ae"
            ],
            [
             0.3,
             "#f1b6da"
            ],
            [
             0.4,
             "#fde0ef"
            ],
            [
             0.5,
             "#f7f7f7"
            ],
            [
             0.6,
             "#e6f5d0"
            ],
            [
             0.7,
             "#b8e186"
            ],
            [
             0.8,
             "#7fbc41"
            ],
            [
             0.9,
             "#4d9221"
            ],
            [
             1,
             "#276419"
            ]
           ],
           "sequential": [
            [
             0,
             "#0d0887"
            ],
            [
             0.1111111111111111,
             "#46039f"
            ],
            [
             0.2222222222222222,
             "#7201a8"
            ],
            [
             0.3333333333333333,
             "#9c179e"
            ],
            [
             0.4444444444444444,
             "#bd3786"
            ],
            [
             0.5555555555555556,
             "#d8576b"
            ],
            [
             0.6666666666666666,
             "#ed7953"
            ],
            [
             0.7777777777777778,
             "#fb9f3a"
            ],
            [
             0.8888888888888888,
             "#fdca26"
            ],
            [
             1,
             "#f0f921"
            ]
           ],
           "sequentialminus": [
            [
             0,
             "#0d0887"
            ],
            [
             0.1111111111111111,
             "#46039f"
            ],
            [
             0.2222222222222222,
             "#7201a8"
            ],
            [
             0.3333333333333333,
             "#9c179e"
            ],
            [
             0.4444444444444444,
             "#bd3786"
            ],
            [
             0.5555555555555556,
             "#d8576b"
            ],
            [
             0.6666666666666666,
             "#ed7953"
            ],
            [
             0.7777777777777778,
             "#fb9f3a"
            ],
            [
             0.8888888888888888,
             "#fdca26"
            ],
            [
             1,
             "#f0f921"
            ]
           ]
          },
          "colorway": [
           "#636efa",
           "#EF553B",
           "#00cc96",
           "#ab63fa",
           "#FFA15A",
           "#19d3f3",
           "#FF6692",
           "#B6E880",
           "#FF97FF",
           "#FECB52"
          ],
          "font": {
           "color": "#f2f5fa"
          },
          "geo": {
           "bgcolor": "rgb(17,17,17)",
           "lakecolor": "rgb(17,17,17)",
           "landcolor": "rgb(17,17,17)",
           "showlakes": true,
           "showland": true,
           "subunitcolor": "#506784"
          },
          "hoverlabel": {
           "align": "left"
          },
          "hovermode": "closest",
          "mapbox": {
           "style": "dark"
          },
          "paper_bgcolor": "rgb(17,17,17)",
          "plot_bgcolor": "rgb(17,17,17)",
          "polar": {
           "angularaxis": {
            "gridcolor": "#506784",
            "linecolor": "#506784",
            "ticks": ""
           },
           "bgcolor": "rgb(17,17,17)",
           "radialaxis": {
            "gridcolor": "#506784",
            "linecolor": "#506784",
            "ticks": ""
           }
          },
          "scene": {
           "xaxis": {
            "backgroundcolor": "rgb(17,17,17)",
            "gridcolor": "#506784",
            "gridwidth": 2,
            "linecolor": "#506784",
            "showbackground": true,
            "ticks": "",
            "zerolinecolor": "#C8D4E3"
           },
           "yaxis": {
            "backgroundcolor": "rgb(17,17,17)",
            "gridcolor": "#506784",
            "gridwidth": 2,
            "linecolor": "#506784",
            "showbackground": true,
            "ticks": "",
            "zerolinecolor": "#C8D4E3"
           },
           "zaxis": {
            "backgroundcolor": "rgb(17,17,17)",
            "gridcolor": "#506784",
            "gridwidth": 2,
            "linecolor": "#506784",
            "showbackground": true,
            "ticks": "",
            "zerolinecolor": "#C8D4E3"
           }
          },
          "shapedefaults": {
           "line": {
            "color": "#f2f5fa"
           }
          },
          "sliderdefaults": {
           "bgcolor": "#C8D4E3",
           "bordercolor": "rgb(17,17,17)",
           "borderwidth": 1,
           "tickwidth": 0
          },
          "ternary": {
           "aaxis": {
            "gridcolor": "#506784",
            "linecolor": "#506784",
            "ticks": ""
           },
           "baxis": {
            "gridcolor": "#506784",
            "linecolor": "#506784",
            "ticks": ""
           },
           "bgcolor": "rgb(17,17,17)",
           "caxis": {
            "gridcolor": "#506784",
            "linecolor": "#506784",
            "ticks": ""
           }
          },
          "title": {
           "x": 0.05
          },
          "updatemenudefaults": {
           "bgcolor": "#506784",
           "borderwidth": 0
          },
          "xaxis": {
           "automargin": true,
           "gridcolor": "#283442",
           "linecolor": "#506784",
           "ticks": "",
           "title": {
            "standoff": 15
           },
           "zerolinecolor": "#283442",
           "zerolinewidth": 2
          },
          "yaxis": {
           "automargin": true,
           "gridcolor": "#283442",
           "linecolor": "#506784",
           "ticks": "",
           "title": {
            "standoff": 15
           },
           "zerolinecolor": "#283442",
           "zerolinewidth": 2
          }
         }
        },
        "title": {
         "text": "Average Salary by Company Location"
        }
       }
      }
     },
     "metadata": {},
     "output_type": "display_data"
    }
   ],
   "source": [
    "# fig = px.choropleth(locations=result['company_location_full'],\n",
    "#                     color=result['salary_in_TH_usd_median'],\n",
    "#                     color_continuous_scale=px.colors.sequential.solar,\n",
    "#                     template='plotly_dark',\n",
    "#                     title = 'Average Salary by Company Location')\n",
    "# fig.update_layout(font = dict(size=17,family=\"Franklin Gothic\"))\n",
    "# fig.show();\n",
    "\n",
    "fig = px.choropleth(result,\n",
    "                    locations='company_location_full',\n",
    "                    locationmode='country names', # update\n",
    "                    color='salary_in_TH_usd_median',\n",
    "                    color_continuous_scale=px.colors.sequential.solar,\n",
    "                    template='plotly_dark',\n",
    "                    title = 'Average Salary by Company Location')\n",
    "fig.update_layout(font=dict(size=17, family=\"Franklin Gothic\"))\n",
    "fig.show()\n",
    "\n"
   ]
  },
  {
   "attachments": {},
   "cell_type": "markdown",
   "metadata": {},
   "source": [
    "## Remote ratio"
   ]
  },
  {
   "cell_type": "code",
   "execution_count": 33,
   "metadata": {},
   "outputs": [],
   "source": [
    "df.remote_ratio.replace([100,50,0],['Fully Remote','Partially Remote','On-site'], inplace=True)"
   ]
  },
  {
   "attachments": {},
   "cell_type": "markdown",
   "metadata": {},
   "source": [
    "df.remote_ratio.replace([100,50,0],['Fully Remote','Partially Remote','On-site'], inplace=True)"
   ]
  }
 ],
 "metadata": {
  "kernelspec": {
   "display_name": "Python 3 (ipykernel)",
   "language": "python",
   "name": "python3"
  },
  "language_info": {
   "codemirror_mode": {
    "name": "ipython",
    "version": 3
   },
   "file_extension": ".py",
   "mimetype": "text/x-python",
   "name": "python",
   "nbconvert_exporter": "python",
   "pygments_lexer": "ipython3",
   "version": "3.9.13"
  }
 },
 "nbformat": 4,
 "nbformat_minor": 2
}
